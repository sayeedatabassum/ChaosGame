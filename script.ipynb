{
  "nbformat": 4,
  "nbformat_minor": 0,
  "metadata": {
    "colab": {
      "provenance": [],
      "authorship_tag": "ABX9TyNBYrdtcCybPQo20CD26ceu",
      "include_colab_link": true
    },
    "kernelspec": {
      "name": "python3",
      "display_name": "Python 3"
    },
    "language_info": {
      "name": "python"
    }
  },
  "cells": [
    {
      "cell_type": "markdown",
      "metadata": {
        "id": "view-in-github",
        "colab_type": "text"
      },
      "source": [
        "<a href=\"https://colab.research.google.com/github/sayeedatabassum/ChaosGame/blob/master/script.ipynb\" target=\"_parent\"><img src=\"https://colab.research.google.com/assets/colab-badge.svg\" alt=\"Open In Colab\"/></a>"
      ]
    },
    {
      "cell_type": "code",
      "source": [
        "def get_event_date(event):\n",
        "  return event.date\n",
        "\n",
        "def current_users (events) :\n",
        "  events.sort (key=get_event_date)\n",
        "  machines = {}\n",
        "  for event in events:\n",
        "    if event.machine not in machines:\n",
        "      machines [event.machine] = set()\n",
        "    if event.type == \"login\":\n",
        "      machines [event.machine].add(event.user)\n",
        "    elif event.type == \"logout\":\n",
        "      machines [event.machine].remove(event.user)\n",
        "  return machines\n",
        "\n",
        "def generate_report(machines):\n",
        "  for machine, users in machines.items():\n",
        "    if len(users) > 0:\n",
        "      user_list = \", \".join(users)\n",
        "      print(\"{}: {}\". format (machine, user_list))"
      ],
      "metadata": {
        "id": "Fxb_yZiCG9J0"
      },
      "execution_count": 19,
      "outputs": []
    },
    {
      "cell_type": "markdown",
      "source": [
        "To use this code, we'll use the following Event class:"
      ],
      "metadata": {
        "id": "cc3FqnWrNSpX"
      }
    },
    {
      "cell_type": "code",
      "source": [
        "class Event:\n",
        "    def __init__(self, event_date, event_type, machine_name, user):\n",
        "        self.date = event_date\n",
        "        self.type = event_type\n",
        "        self.machine = machine_name\n",
        "        self.user = user"
      ],
      "metadata": {
        "id": "tvCbvOCGHIgZ"
      },
      "execution_count": 4,
      "outputs": []
    },
    {
      "cell_type": "markdown",
      "source": [
        "And here are some sample events to check that the code runs correct"
      ],
      "metadata": {
        "id": "QxjHjLy0H-05"
      }
    },
    {
      "cell_type": "code",
      "source": [
        "events = [\n",
        "Event ('2020-01-21 12:45:56', 'login', 'myworkstation.local', 'jordan'),\n",
        "Event ('2020-01-22 15:53:42', 'logout', 'webserver.local', 'jordan'),\n",
        "Event ('2020-01-21 18:53:21', 'login', 'webserver.local', 'lane'),\n",
        "Event ('2020-01-22 18:25:34', 'logout', 'myworkstation.local', 'jordan'),\n",
        "Event ('2020-01-21 08:20:01', 'login', 'webserver.local', 'jordan'),\n",
        "Event ('2028-01-23 11:24:35', 'login', 'mailserver.local', 'chris'),\n",
        "]"
      ],
      "metadata": {
        "id": "bwdk-xggH_4P"
      },
      "execution_count": 22,
      "outputs": []
    },
    {
      "cell_type": "markdown",
      "source": [
        "Now, let's call the code and verify that it does what it should:"
      ],
      "metadata": {
        "id": "8ISdUq-3KMEg"
      }
    },
    {
      "cell_type": "code",
      "source": [
        "users = current_users(events)\n",
        "print(users)"
      ],
      "metadata": {
        "colab": {
          "base_uri": "https://localhost:8080/"
        },
        "id": "-Jxgc7zNKM5A",
        "outputId": "bf8d5f25-2a05-4f0d-cf0f-cfd67db75609"
      },
      "execution_count": 23,
      "outputs": [
        {
          "output_type": "stream",
          "name": "stdout",
          "text": [
            "{'webserver.local': {'lane'}, 'myworkstation.local': set(), 'mailserver.local': {'chris'}}\n"
          ]
        }
      ]
    },
    {
      "cell_type": "code",
      "source": [
        "generate_report(users)"
      ],
      "metadata": {
        "colab": {
          "base_uri": "https://localhost:8080/"
        },
        "id": "4hVQDQQtOP97",
        "outputId": "8ea713ae-d1a7-4f92-d935-20a2d9984d4b"
      },
      "execution_count": 24,
      "outputs": [
        {
          "output_type": "stream",
          "name": "stdout",
          "text": [
            "webserver.local: lane\n",
            "mailserver.local: chris\n"
          ]
        }
      ]
    }
  ]
}